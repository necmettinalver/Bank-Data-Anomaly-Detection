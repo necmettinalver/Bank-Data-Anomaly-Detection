{
 "cells": [
  {
   "cell_type": "code",
   "execution_count": 46,
   "metadata": {},
   "outputs": [],
   "source": [
    "import pandas as pd\n",
    "import datetime"
   ]
  },
  {
   "cell_type": "code",
   "execution_count": 47,
   "metadata": {},
   "outputs": [],
   "source": [
    "import pyarrow.parquet as pq"
   ]
  },
  {
   "cell_type": "code",
   "execution_count": 48,
   "metadata": {},
   "outputs": [
    {
     "data": {
      "text/html": [
       "<div>\n",
       "<style scoped>\n",
       "    .dataframe tbody tr th:only-of-type {\n",
       "        vertical-align: middle;\n",
       "    }\n",
       "\n",
       "    .dataframe tbody tr th {\n",
       "        vertical-align: top;\n",
       "    }\n",
       "\n",
       "    .dataframe thead th {\n",
       "        text-align: right;\n",
       "    }\n",
       "</style>\n",
       "<table border=\"1\" class=\"dataframe\">\n",
       "  <thead>\n",
       "    <tr style=\"text-align: right;\">\n",
       "      <th></th>\n",
       "      <th>ID</th>\n",
       "      <th>Item</th>\n",
       "      <th>IDRSSD</th>\n",
       "      <th>Value</th>\n",
       "      <th>Date</th>\n",
       "      <th>CValue</th>\n",
       "      <th>schedule</th>\n",
       "      <th>schedule.label</th>\n",
       "      <th>Label1clean</th>\n",
       "      <th>Label2clean</th>\n",
       "      <th>...</th>\n",
       "      <th>line2</th>\n",
       "      <th>line3</th>\n",
       "      <th>line4</th>\n",
       "      <th>line5</th>\n",
       "      <th>line6</th>\n",
       "      <th>line7</th>\n",
       "      <th>column.label</th>\n",
       "      <th>type</th>\n",
       "      <th>balance</th>\n",
       "      <th>Status</th>\n",
       "    </tr>\n",
       "  </thead>\n",
       "  <tbody>\n",
       "    <tr>\n",
       "      <th>0</th>\n",
       "      <td>3.0</td>\n",
       "      <td>RCFA3792</td>\n",
       "      <td>852218.0</td>\n",
       "      <td>1.644990e+11</td>\n",
       "      <td>2014-03-31</td>\n",
       "      <td>1.644990e+11</td>\n",
       "      <td>RCRI</td>\n",
       "      <td>Regulatory Capital Components and Ratios</td>\n",
       "      <td>47. Total capital</td>\n",
       "      <td>a. Total capital</td>\n",
       "      <td>...</td>\n",
       "      <td>1</td>\n",
       "      <td>None</td>\n",
       "      <td>None</td>\n",
       "      <td>None</td>\n",
       "      <td>None</td>\n",
       "      <td>None</td>\n",
       "      <td></td>\n",
       "      <td>monetary</td>\n",
       "      <td>credit</td>\n",
       "      <td>Main</td>\n",
       "    </tr>\n",
       "    <tr>\n",
       "      <th>1</th>\n",
       "      <td>3.0</td>\n",
       "      <td>RCFA3792</td>\n",
       "      <td>852218.0</td>\n",
       "      <td>1.683120e+11</td>\n",
       "      <td>2014-06-30</td>\n",
       "      <td>3.813000e+09</td>\n",
       "      <td>RCRI</td>\n",
       "      <td>Regulatory Capital Components and Ratios</td>\n",
       "      <td>47. Total capital</td>\n",
       "      <td>a. Total capital</td>\n",
       "      <td>...</td>\n",
       "      <td>1</td>\n",
       "      <td>None</td>\n",
       "      <td>None</td>\n",
       "      <td>None</td>\n",
       "      <td>None</td>\n",
       "      <td>None</td>\n",
       "      <td></td>\n",
       "      <td>monetary</td>\n",
       "      <td>credit</td>\n",
       "      <td>Main</td>\n",
       "    </tr>\n",
       "    <tr>\n",
       "      <th>2</th>\n",
       "      <td>3.0</td>\n",
       "      <td>RCFA3792</td>\n",
       "      <td>852218.0</td>\n",
       "      <td>1.705590e+11</td>\n",
       "      <td>2014-09-30</td>\n",
       "      <td>2.247000e+09</td>\n",
       "      <td>RCRI</td>\n",
       "      <td>Regulatory Capital Components and Ratios</td>\n",
       "      <td>47. Total capital</td>\n",
       "      <td>a. Total capital</td>\n",
       "      <td>...</td>\n",
       "      <td>1</td>\n",
       "      <td>None</td>\n",
       "      <td>None</td>\n",
       "      <td>None</td>\n",
       "      <td>None</td>\n",
       "      <td>None</td>\n",
       "      <td></td>\n",
       "      <td>monetary</td>\n",
       "      <td>credit</td>\n",
       "      <td>Main</td>\n",
       "    </tr>\n",
       "    <tr>\n",
       "      <th>3</th>\n",
       "      <td>3.0</td>\n",
       "      <td>RCFA3792</td>\n",
       "      <td>852218.0</td>\n",
       "      <td>1.733280e+11</td>\n",
       "      <td>2014-12-31</td>\n",
       "      <td>2.769000e+09</td>\n",
       "      <td>RCRI</td>\n",
       "      <td>Regulatory Capital Components and Ratios</td>\n",
       "      <td>47. Total capital</td>\n",
       "      <td>a. Total capital</td>\n",
       "      <td>...</td>\n",
       "      <td>1</td>\n",
       "      <td>None</td>\n",
       "      <td>None</td>\n",
       "      <td>None</td>\n",
       "      <td>None</td>\n",
       "      <td>None</td>\n",
       "      <td></td>\n",
       "      <td>monetary</td>\n",
       "      <td>credit</td>\n",
       "      <td>Main</td>\n",
       "    </tr>\n",
       "    <tr>\n",
       "      <th>4</th>\n",
       "      <td>3.0</td>\n",
       "      <td>RCFA3792</td>\n",
       "      <td>852218.0</td>\n",
       "      <td>1.781850e+11</td>\n",
       "      <td>2015-03-31</td>\n",
       "      <td>1.781850e+11</td>\n",
       "      <td>RCRI</td>\n",
       "      <td>Regulatory Capital Components and Ratios</td>\n",
       "      <td>47. Total capital</td>\n",
       "      <td>a. Total capital</td>\n",
       "      <td>...</td>\n",
       "      <td>1</td>\n",
       "      <td>None</td>\n",
       "      <td>None</td>\n",
       "      <td>None</td>\n",
       "      <td>None</td>\n",
       "      <td>None</td>\n",
       "      <td></td>\n",
       "      <td>monetary</td>\n",
       "      <td>credit</td>\n",
       "      <td>Main</td>\n",
       "    </tr>\n",
       "    <tr>\n",
       "      <th>...</th>\n",
       "      <td>...</td>\n",
       "      <td>...</td>\n",
       "      <td>...</td>\n",
       "      <td>...</td>\n",
       "      <td>...</td>\n",
       "      <td>...</td>\n",
       "      <td>...</td>\n",
       "      <td>...</td>\n",
       "      <td>...</td>\n",
       "      <td>...</td>\n",
       "      <td>...</td>\n",
       "      <td>...</td>\n",
       "      <td>...</td>\n",
       "      <td>...</td>\n",
       "      <td>...</td>\n",
       "      <td>...</td>\n",
       "      <td>...</td>\n",
       "      <td>...</td>\n",
       "      <td>...</td>\n",
       "      <td>...</td>\n",
       "      <td>...</td>\n",
       "    </tr>\n",
       "    <tr>\n",
       "      <th>116735</th>\n",
       "      <td>4422.0</td>\n",
       "      <td>RIADHK04</td>\n",
       "      <td>852218.0</td>\n",
       "      <td>4.800000e+07</td>\n",
       "      <td>2022-03-31</td>\n",
       "      <td>4.800000e+07</td>\n",
       "      <td>RI</td>\n",
       "      <td>Income Statement</td>\n",
       "      <td>2. Interest expense</td>\n",
       "      <td>a. Interest on deposits</td>\n",
       "      <td>...</td>\n",
       "      <td>1</td>\n",
       "      <td>2</td>\n",
       "      <td>3</td>\n",
       "      <td>None</td>\n",
       "      <td>None</td>\n",
       "      <td>None</td>\n",
       "      <td></td>\n",
       "      <td>monetary</td>\n",
       "      <td>debit</td>\n",
       "      <td>Main</td>\n",
       "    </tr>\n",
       "    <tr>\n",
       "      <th>116736</th>\n",
       "      <td>4422.0</td>\n",
       "      <td>RIADHK04</td>\n",
       "      <td>852218.0</td>\n",
       "      <td>2.420000e+08</td>\n",
       "      <td>2022-06-30</td>\n",
       "      <td>1.940000e+08</td>\n",
       "      <td>RI</td>\n",
       "      <td>Income Statement</td>\n",
       "      <td>2. Interest expense</td>\n",
       "      <td>a. Interest on deposits</td>\n",
       "      <td>...</td>\n",
       "      <td>1</td>\n",
       "      <td>2</td>\n",
       "      <td>3</td>\n",
       "      <td>None</td>\n",
       "      <td>None</td>\n",
       "      <td>None</td>\n",
       "      <td></td>\n",
       "      <td>monetary</td>\n",
       "      <td>debit</td>\n",
       "      <td>Main</td>\n",
       "    </tr>\n",
       "    <tr>\n",
       "      <th>116737</th>\n",
       "      <td>4422.0</td>\n",
       "      <td>RIADHK04</td>\n",
       "      <td>852218.0</td>\n",
       "      <td>8.270000e+08</td>\n",
       "      <td>2022-09-30</td>\n",
       "      <td>5.850000e+08</td>\n",
       "      <td>RI</td>\n",
       "      <td>Income Statement</td>\n",
       "      <td>2. Interest expense</td>\n",
       "      <td>a. Interest on deposits</td>\n",
       "      <td>...</td>\n",
       "      <td>1</td>\n",
       "      <td>2</td>\n",
       "      <td>3</td>\n",
       "      <td>None</td>\n",
       "      <td>None</td>\n",
       "      <td>None</td>\n",
       "      <td></td>\n",
       "      <td>monetary</td>\n",
       "      <td>debit</td>\n",
       "      <td>Main</td>\n",
       "    </tr>\n",
       "    <tr>\n",
       "      <th>116738</th>\n",
       "      <td>4422.0</td>\n",
       "      <td>RIADHK04</td>\n",
       "      <td>852218.0</td>\n",
       "      <td>1.820000e+09</td>\n",
       "      <td>2022-12-31</td>\n",
       "      <td>9.930000e+08</td>\n",
       "      <td>RI</td>\n",
       "      <td>Income Statement</td>\n",
       "      <td>2. Interest expense</td>\n",
       "      <td>a. Interest on deposits</td>\n",
       "      <td>...</td>\n",
       "      <td>1</td>\n",
       "      <td>2</td>\n",
       "      <td>3</td>\n",
       "      <td>None</td>\n",
       "      <td>None</td>\n",
       "      <td>None</td>\n",
       "      <td></td>\n",
       "      <td>monetary</td>\n",
       "      <td>debit</td>\n",
       "      <td>Main</td>\n",
       "    </tr>\n",
       "    <tr>\n",
       "      <th>116739</th>\n",
       "      <td>4422.0</td>\n",
       "      <td>RIADHK04</td>\n",
       "      <td>852218.0</td>\n",
       "      <td>1.207000e+09</td>\n",
       "      <td>2023-03-31</td>\n",
       "      <td>1.207000e+09</td>\n",
       "      <td>RI</td>\n",
       "      <td>Income Statement</td>\n",
       "      <td>2. Interest expense</td>\n",
       "      <td>a. Interest on deposits</td>\n",
       "      <td>...</td>\n",
       "      <td>1</td>\n",
       "      <td>2</td>\n",
       "      <td>3</td>\n",
       "      <td>None</td>\n",
       "      <td>None</td>\n",
       "      <td>None</td>\n",
       "      <td></td>\n",
       "      <td>monetary</td>\n",
       "      <td>debit</td>\n",
       "      <td>Main</td>\n",
       "    </tr>\n",
       "  </tbody>\n",
       "</table>\n",
       "<p>116740 rows × 27 columns</p>\n",
       "</div>"
      ],
      "text/plain": [
       "            ID      Item    IDRSSD         Value       Date        CValue  \\\n",
       "0          3.0  RCFA3792  852218.0  1.644990e+11 2014-03-31  1.644990e+11   \n",
       "1          3.0  RCFA3792  852218.0  1.683120e+11 2014-06-30  3.813000e+09   \n",
       "2          3.0  RCFA3792  852218.0  1.705590e+11 2014-09-30  2.247000e+09   \n",
       "3          3.0  RCFA3792  852218.0  1.733280e+11 2014-12-31  2.769000e+09   \n",
       "4          3.0  RCFA3792  852218.0  1.781850e+11 2015-03-31  1.781850e+11   \n",
       "...        ...       ...       ...           ...        ...           ...   \n",
       "116735  4422.0  RIADHK04  852218.0  4.800000e+07 2022-03-31  4.800000e+07   \n",
       "116736  4422.0  RIADHK04  852218.0  2.420000e+08 2022-06-30  1.940000e+08   \n",
       "116737  4422.0  RIADHK04  852218.0  8.270000e+08 2022-09-30  5.850000e+08   \n",
       "116738  4422.0  RIADHK04  852218.0  1.820000e+09 2022-12-31  9.930000e+08   \n",
       "116739  4422.0  RIADHK04  852218.0  1.207000e+09 2023-03-31  1.207000e+09   \n",
       "\n",
       "       schedule                            schedule.label  \\\n",
       "0          RCRI  Regulatory Capital Components and Ratios   \n",
       "1          RCRI  Regulatory Capital Components and Ratios   \n",
       "2          RCRI  Regulatory Capital Components and Ratios   \n",
       "3          RCRI  Regulatory Capital Components and Ratios   \n",
       "4          RCRI  Regulatory Capital Components and Ratios   \n",
       "...         ...                                       ...   \n",
       "116735       RI                          Income Statement   \n",
       "116736       RI                          Income Statement   \n",
       "116737       RI                          Income Statement   \n",
       "116738       RI                          Income Statement   \n",
       "116739       RI                          Income Statement   \n",
       "\n",
       "                Label1clean              Label2clean  ... line2 line3  line4  \\\n",
       "0         47. Total capital         a. Total capital  ...     1  None   None   \n",
       "1         47. Total capital         a. Total capital  ...     1  None   None   \n",
       "2         47. Total capital         a. Total capital  ...     1  None   None   \n",
       "3         47. Total capital         a. Total capital  ...     1  None   None   \n",
       "4         47. Total capital         a. Total capital  ...     1  None   None   \n",
       "...                     ...                      ...  ...   ...   ...    ...   \n",
       "116735  2. Interest expense  a. Interest on deposits  ...     1     2      3   \n",
       "116736  2. Interest expense  a. Interest on deposits  ...     1     2      3   \n",
       "116737  2. Interest expense  a. Interest on deposits  ...     1     2      3   \n",
       "116738  2. Interest expense  a. Interest on deposits  ...     1     2      3   \n",
       "116739  2. Interest expense  a. Interest on deposits  ...     1     2      3   \n",
       "\n",
       "        line5  line6 line7 column.label      type balance Status  \n",
       "0        None   None  None               monetary  credit   Main  \n",
       "1        None   None  None               monetary  credit   Main  \n",
       "2        None   None  None               monetary  credit   Main  \n",
       "3        None   None  None               monetary  credit   Main  \n",
       "4        None   None  None               monetary  credit   Main  \n",
       "...       ...    ...   ...          ...       ...     ...    ...  \n",
       "116735   None   None  None               monetary   debit   Main  \n",
       "116736   None   None  None               monetary   debit   Main  \n",
       "116737   None   None  None               monetary   debit   Main  \n",
       "116738   None   None  None               monetary   debit   Main  \n",
       "116739   None   None  None               monetary   debit   Main  \n",
       "\n",
       "[116740 rows x 27 columns]"
      ]
     },
     "execution_count": 48,
     "metadata": {},
     "output_type": "execute_result"
    }
   ],
   "source": [
    "data = pd.read_parquet('Call_Report_BankData_852218 (1).parquet', engine='fastparquet')\n",
    "data"
   ]
  },
  {
   "cell_type": "code",
   "execution_count": 49,
   "metadata": {},
   "outputs": [
    {
     "name": "stdout",
     "output_type": "stream",
     "text": [
      "<class 'pandas.core.frame.DataFrame'>\n",
      "RangeIndex: 116740 entries, 0 to 116739\n",
      "Data columns (total 27 columns):\n",
      " #   Column            Non-Null Count   Dtype         \n",
      "---  ------            --------------   -----         \n",
      " 0   ID                116740 non-null  float64       \n",
      " 1   Item              116740 non-null  object        \n",
      " 2   IDRSSD            116740 non-null  float64       \n",
      " 3   Value             116740 non-null  float64       \n",
      " 4   Date              116740 non-null  datetime64[ns]\n",
      " 5   CValue            116740 non-null  float64       \n",
      " 6   schedule          116740 non-null  object        \n",
      " 7   schedule.label    116740 non-null  object        \n",
      " 8   Label1clean       116740 non-null  object        \n",
      " 9   Label2clean       75474 non-null   object        \n",
      " 10  Label3clean       27660 non-null   object        \n",
      " 11  Label4clean       5131 non-null    object        \n",
      " 12  Label5clean       0 non-null       float64       \n",
      " 13  Label6clean       0 non-null       float64       \n",
      " 14  Label7clean       0 non-null       float64       \n",
      " 15  labelStringclean  116740 non-null  object        \n",
      " 16  line1             116740 non-null  object        \n",
      " 17  line2             75474 non-null   object        \n",
      " 18  line3             27660 non-null   object        \n",
      " 19  line4             5131 non-null    object        \n",
      " 20  line5             0 non-null       object        \n",
      " 21  line6             0 non-null       object        \n",
      " 22  line7             0 non-null       object        \n",
      " 23  column.label      116740 non-null  object        \n",
      " 24  type              116740 non-null  object        \n",
      " 25  balance           112646 non-null  object        \n",
      " 26  Status            116740 non-null  object        \n",
      "dtypes: datetime64[ns](1), float64(7), object(19)\n",
      "memory usage: 24.0+ MB\n"
     ]
    }
   ],
   "source": [
    "data.info()"
   ]
  },
  {
   "cell_type": "code",
   "execution_count": 50,
   "metadata": {},
   "outputs": [
    {
     "data": {
      "text/plain": [
       "Index(['ID', 'Item', 'IDRSSD', 'Value', 'Date', 'CValue', 'schedule',\n",
       "       'schedule.label', 'Label1clean', 'Label2clean', 'Label3clean',\n",
       "       'Label4clean', 'Label5clean', 'Label6clean', 'Label7clean',\n",
       "       'labelStringclean', 'line1', 'line2', 'line3', 'line4', 'line5',\n",
       "       'line6', 'line7', 'column.label', 'type', 'balance', 'Status'],\n",
       "      dtype='object')"
      ]
     },
     "execution_count": 50,
     "metadata": {},
     "output_type": "execute_result"
    }
   ],
   "source": [
    "data.columns"
   ]
  },
  {
   "cell_type": "code",
   "execution_count": 51,
   "metadata": {},
   "outputs": [
    {
     "data": {
      "text/plain": [
       "(116740, 27)"
      ]
     },
     "execution_count": 51,
     "metadata": {},
     "output_type": "execute_result"
    }
   ],
   "source": [
    "data.shape"
   ]
  },
  {
   "cell_type": "code",
   "execution_count": 52,
   "metadata": {},
   "outputs": [
    {
     "data": {
      "text/plain": [
       "ID                                                       3.0\n",
       "Item                                                RCFA3792\n",
       "IDRSSD                                              852218.0\n",
       "Value                                         164499000000.0\n",
       "Date                                     2014-03-31 00:00:00\n",
       "CValue                                        164499000000.0\n",
       "schedule                                                RCRI\n",
       "schedule.label      Regulatory Capital Components and Ratios\n",
       "Label1clean                                47. Total capital\n",
       "Label2clean                                 a. Total capital\n",
       "Label3clean                                             None\n",
       "Label4clean                                             None\n",
       "Label5clean                                              NaN\n",
       "Label6clean                                              NaN\n",
       "Label7clean                                              NaN\n",
       "labelStringclean                               Total capital\n",
       "line1                                                     47\n",
       "line2                                                      1\n",
       "line3                                                   None\n",
       "line4                                                   None\n",
       "line5                                                   None\n",
       "line6                                                   None\n",
       "line7                                                   None\n",
       "column.label                                                \n",
       "type                                                monetary\n",
       "balance                                               credit\n",
       "Status                                                  Main\n",
       "Name: 0, dtype: object"
      ]
     },
     "execution_count": 52,
     "metadata": {},
     "output_type": "execute_result"
    }
   ],
   "source": [
    "data.iloc[0]"
   ]
  },
  {
   "cell_type": "code",
   "execution_count": 53,
   "metadata": {},
   "outputs": [
    {
     "data": {
      "text/plain": [
       "(array([nan]), array([None], dtype=object))"
      ]
     },
     "execution_count": 53,
     "metadata": {},
     "output_type": "execute_result"
    }
   ],
   "source": [
    "data['Label5clean'].unique(),data['line5'].unique()"
   ]
  },
  {
   "cell_type": "code",
   "execution_count": 54,
   "metadata": {},
   "outputs": [
    {
     "data": {
      "text/plain": [
       "Index(['ID', 'Item', 'IDRSSD', 'Value', 'Date', 'CValue', 'schedule',\n",
       "       'schedule.label', 'Label1clean', 'Label2clean', 'Label3clean',\n",
       "       'Label4clean', 'labelStringclean', 'line1', 'line2', 'line3', 'line4',\n",
       "       'column.label', 'type', 'balance', 'Status'],\n",
       "      dtype='object')"
      ]
     },
     "execution_count": 54,
     "metadata": {},
     "output_type": "execute_result"
    }
   ],
   "source": [
    "dropped_column = ['Label5clean','Label6clean','Label7clean','line5','line6','line7']\n",
    "data = data.drop(columns=dropped_column,axis=1)\n",
    "data.columns"
   ]
  },
  {
   "cell_type": "code",
   "execution_count": 55,
   "metadata": {},
   "outputs": [
    {
     "data": {
      "text/html": [
       "<div>\n",
       "<style scoped>\n",
       "    .dataframe tbody tr th:only-of-type {\n",
       "        vertical-align: middle;\n",
       "    }\n",
       "\n",
       "    .dataframe tbody tr th {\n",
       "        vertical-align: top;\n",
       "    }\n",
       "\n",
       "    .dataframe thead th {\n",
       "        text-align: right;\n",
       "    }\n",
       "</style>\n",
       "<table border=\"1\" class=\"dataframe\">\n",
       "  <thead>\n",
       "    <tr style=\"text-align: right;\">\n",
       "      <th></th>\n",
       "      <th>labelStringclean</th>\n",
       "      <th>CValue</th>\n",
       "    </tr>\n",
       "  </thead>\n",
       "  <tbody>\n",
       "    <tr>\n",
       "      <th>0</th>\n",
       "      <td>Total capital</td>\n",
       "      <td>1.644990e+11</td>\n",
       "    </tr>\n",
       "    <tr>\n",
       "      <th>1</th>\n",
       "      <td>Total capital</td>\n",
       "      <td>3.813000e+09</td>\n",
       "    </tr>\n",
       "    <tr>\n",
       "      <th>2</th>\n",
       "      <td>Total capital</td>\n",
       "      <td>2.247000e+09</td>\n",
       "    </tr>\n",
       "    <tr>\n",
       "      <th>3</th>\n",
       "      <td>Total capital</td>\n",
       "      <td>2.769000e+09</td>\n",
       "    </tr>\n",
       "    <tr>\n",
       "      <th>4</th>\n",
       "      <td>Total capital</td>\n",
       "      <td>1.781850e+11</td>\n",
       "    </tr>\n",
       "    <tr>\n",
       "      <th>...</th>\n",
       "      <td>...</td>\n",
       "      <td>...</td>\n",
       "    </tr>\n",
       "    <tr>\n",
       "      <th>116735</th>\n",
       "      <td>Time deposits of more than $250,000</td>\n",
       "      <td>4.800000e+07</td>\n",
       "    </tr>\n",
       "    <tr>\n",
       "      <th>116736</th>\n",
       "      <td>Time deposits of more than $250,000</td>\n",
       "      <td>1.940000e+08</td>\n",
       "    </tr>\n",
       "    <tr>\n",
       "      <th>116737</th>\n",
       "      <td>Time deposits of more than $250,000</td>\n",
       "      <td>5.850000e+08</td>\n",
       "    </tr>\n",
       "    <tr>\n",
       "      <th>116738</th>\n",
       "      <td>Time deposits of more than $250,000</td>\n",
       "      <td>9.930000e+08</td>\n",
       "    </tr>\n",
       "    <tr>\n",
       "      <th>116739</th>\n",
       "      <td>Time deposits of more than $250,000</td>\n",
       "      <td>1.207000e+09</td>\n",
       "    </tr>\n",
       "  </tbody>\n",
       "</table>\n",
       "<p>116740 rows × 2 columns</p>\n",
       "</div>"
      ],
      "text/plain": [
       "                           labelStringclean        CValue\n",
       "0                             Total capital  1.644990e+11\n",
       "1                             Total capital  3.813000e+09\n",
       "2                             Total capital  2.247000e+09\n",
       "3                             Total capital  2.769000e+09\n",
       "4                             Total capital  1.781850e+11\n",
       "...                                     ...           ...\n",
       "116735  Time deposits of more than $250,000  4.800000e+07\n",
       "116736  Time deposits of more than $250,000  1.940000e+08\n",
       "116737  Time deposits of more than $250,000  5.850000e+08\n",
       "116738  Time deposits of more than $250,000  9.930000e+08\n",
       "116739  Time deposits of more than $250,000  1.207000e+09\n",
       "\n",
       "[116740 rows x 2 columns]"
      ]
     },
     "execution_count": 55,
     "metadata": {},
     "output_type": "execute_result"
    }
   ],
   "source": [
    "data_clean = data[['labelStringclean','CValue']]\n",
    "data_clean"
   ]
  },
  {
   "cell_type": "code",
   "execution_count": 56,
   "metadata": {},
   "outputs": [],
   "source": [
    "def under_label (data):\n",
    "    schedule = 'RI'\n",
    "    date = datetime.date(2023, 3, 31)\n",
    "    columns = ['schedule', 'Date']\n",
    "    filtered_df = data[data[columns].isin([schedule, date]).all(axis=1)]\n",
    "    \n",
    "    ind = 1\n",
    "    label = 'Label'+str(ind)+'clean'\n",
    "    \n",
    "    for _ in filtered_df.Label1clean.unique():\n",
    "        print(_)\n"
   ]
  },
  {
   "cell_type": "code",
   "execution_count": 57,
   "metadata": {},
   "outputs": [],
   "source": [
    "under_label(data)"
   ]
  },
  {
   "cell_type": "code",
   "execution_count": 58,
   "metadata": {},
   "outputs": [
    {
     "data": {
      "text/plain": [
       "ID                                                       3.0\n",
       "Item                                                RCFA3792\n",
       "IDRSSD                                              852218.0\n",
       "Value                                         164499000000.0\n",
       "Date                                     2014-03-31 00:00:00\n",
       "CValue                                        164499000000.0\n",
       "schedule                                                RCRI\n",
       "schedule.label      Regulatory Capital Components and Ratios\n",
       "Label1clean                                47. Total capital\n",
       "Label2clean                                 a. Total capital\n",
       "Label3clean                                             None\n",
       "Label4clean                                             None\n",
       "labelStringclean                               Total capital\n",
       "line1                                                     47\n",
       "line2                                                      1\n",
       "line3                                                   None\n",
       "line4                                                   None\n",
       "column.label                                                \n",
       "type                                                monetary\n",
       "balance                                               credit\n",
       "Status                                                  Main\n",
       "Name: 0, dtype: object"
      ]
     },
     "execution_count": 58,
     "metadata": {},
     "output_type": "execute_result"
    }
   ],
   "source": [
    "data.iloc[0]"
   ]
  },
  {
   "cell_type": "code",
   "execution_count": 59,
   "metadata": {},
   "outputs": [
    {
     "data": {
      "text/plain": [
       "ID                                                       3.0\n",
       "Item                                                RCFA3792\n",
       "IDRSSD                                              852218.0\n",
       "Value                                         292244000000.0\n",
       "Date                                     2023-03-31 00:00:00\n",
       "CValue                                        292244000000.0\n",
       "schedule                                                RCRI\n",
       "schedule.label      Regulatory Capital Components and Ratios\n",
       "Label1clean                                47. Total capital\n",
       "Label2clean                                 a. Total capital\n",
       "Label3clean                                             None\n",
       "Label4clean                                             None\n",
       "labelStringclean                               Total capital\n",
       "line1                                                     47\n",
       "line2                                                      1\n",
       "line3                                                   None\n",
       "line4                                                   None\n",
       "column.label                                                \n",
       "type                                                monetary\n",
       "balance                                               credit\n",
       "Status                                                  Main\n",
       "Name: 36, dtype: object"
      ]
     },
     "execution_count": 59,
     "metadata": {},
     "output_type": "execute_result"
    }
   ],
   "source": [
    "data.iloc[36]"
   ]
  },
  {
   "cell_type": "code",
   "execution_count": 60,
   "metadata": {},
   "outputs": [
    {
     "data": {
      "text/plain": [
       "ID                                                                4.0\n",
       "Item                                                         RCFA5310\n",
       "IDRSSD                                                       852218.0\n",
       "Value                                                   13456000000.0\n",
       "Date                                              2014-03-31 00:00:00\n",
       "CValue                                                  13456000000.0\n",
       "schedule                                                         RCRI\n",
       "schedule.label               Regulatory Capital Components and Ratios\n",
       "Label1clean         42. Allowance for loan and lease losses and el...\n",
       "Label2clean         a. Allowance for loan and lease losses includa...\n",
       "Label3clean                                                      None\n",
       "Label4clean                                                      None\n",
       "labelStringclean    Allowance for loan and lease losses includable...\n",
       "line1                                                              42\n",
       "line2                                                               1\n",
       "line3                                                            None\n",
       "line4                                                            None\n",
       "column.label                                                         \n",
       "type                                              nonNegativeMonetary\n",
       "balance                                                        credit\n",
       "Status                                                           Main\n",
       "Name: 37, dtype: object"
      ]
     },
     "execution_count": 60,
     "metadata": {},
     "output_type": "execute_result"
    }
   ],
   "source": [
    "data.iloc[37]"
   ]
  },
  {
   "cell_type": "code",
   "execution_count": 61,
   "metadata": {},
   "outputs": [
    {
     "data": {
      "text/plain": [
       "ID                                                             4317.0\n",
       "Item                                                         RIADB485\n",
       "IDRSSD                                                       852218.0\n",
       "Value                                                             0.0\n",
       "Date                                              2001-03-31 00:00:00\n",
       "CValue                                                            0.0\n",
       "schedule                                                           RI\n",
       "schedule.label                                       Income Statement\n",
       "Label1clean                                        1. Interest income\n",
       "Label2clean                       a. Interest and fee income on loans\n",
       "Label3clean         3. Loans to individuals for household, family,...\n",
       "Label4clean                                           a. Credit cards\n",
       "labelStringclean                                         Credit cards\n",
       "line1                                                               1\n",
       "line2                                                               1\n",
       "line3                                                               3\n",
       "line4                                                               1\n",
       "column.label                                                         \n",
       "type                                                         monetary\n",
       "balance                                                        credit\n",
       "Status                                                           Main\n",
       "Name: 116512, dtype: object"
      ]
     },
     "execution_count": 61,
     "metadata": {},
     "output_type": "execute_result"
    }
   ],
   "source": [
    "data.iloc[-228]"
   ]
  },
  {
   "cell_type": "code",
   "execution_count": 62,
   "metadata": {},
   "outputs": [
    {
     "data": {
      "text/plain": [
       "ID                                                             4317.0\n",
       "Item                                                         RIADB485\n",
       "IDRSSD                                                       852218.0\n",
       "Value                                                    5623000000.0\n",
       "Date                                              2023-03-31 00:00:00\n",
       "CValue                                                   5623000000.0\n",
       "schedule                                                           RI\n",
       "schedule.label                                       Income Statement\n",
       "Label1clean                                        1. Interest income\n",
       "Label2clean                       a. Interest and fee income on loans\n",
       "Label3clean         3. Loans to individuals for household, family,...\n",
       "Label4clean                                           a. Credit cards\n",
       "labelStringclean                                         Credit cards\n",
       "line1                                                               1\n",
       "line2                                                               1\n",
       "line3                                                               3\n",
       "line4                                                               1\n",
       "column.label                                                         \n",
       "type                                                         monetary\n",
       "balance                                                        credit\n",
       "Status                                                           Main\n",
       "Name: 116600, dtype: object"
      ]
     },
     "execution_count": 62,
     "metadata": {},
     "output_type": "execute_result"
    }
   ],
   "source": [
    "data.iloc[-140] #88"
   ]
  },
  {
   "cell_type": "code",
   "execution_count": 63,
   "metadata": {},
   "outputs": [
    {
     "data": {
      "text/plain": [
       "ID                                                             4318.0\n",
       "Item                                                         RIADB486\n",
       "IDRSSD                                                       852218.0\n",
       "Value                                                     396000000.0\n",
       "Date                                              2001-03-31 00:00:00\n",
       "CValue                                                    396000000.0\n",
       "schedule                                                           RI\n",
       "schedule.label                                       Income Statement\n",
       "Label1clean                                        1. Interest income\n",
       "Label2clean                       a. Interest and fee income on loans\n",
       "Label3clean         3. Loans to individuals for household, family,...\n",
       "Label4clean         b. Other (includes revolving credit plans othe...\n",
       "labelStringclean    Other (includes revolving credit plans other t...\n",
       "line1                                                               1\n",
       "line2                                                               1\n",
       "line3                                                               3\n",
       "line4                                                               2\n",
       "column.label                                                         \n",
       "type                                                         monetary\n",
       "balance                                                        credit\n",
       "Status                                                           Main\n",
       "Name: 116601, dtype: object"
      ]
     },
     "execution_count": 63,
     "metadata": {},
     "output_type": "execute_result"
    }
   ],
   "source": [
    "data.iloc[-139] #88"
   ]
  },
  {
   "cell_type": "code",
   "execution_count": 64,
   "metadata": {},
   "outputs": [
    {
     "data": {
      "text/plain": [
       "ID                                                             4318.0\n",
       "Item                                                         RIADB486\n",
       "IDRSSD                                                       852218.0\n",
       "Value                                                     884000000.0\n",
       "Date                                              2023-03-31 00:00:00\n",
       "CValue                                                    884000000.0\n",
       "schedule                                                           RI\n",
       "schedule.label                                       Income Statement\n",
       "Label1clean                                        1. Interest income\n",
       "Label2clean                       a. Interest and fee income on loans\n",
       "Label3clean         3. Loans to individuals for household, family,...\n",
       "Label4clean         b. Other (includes revolving credit plans othe...\n",
       "labelStringclean    Other (includes revolving credit plans other t...\n",
       "line1                                                               1\n",
       "line2                                                               1\n",
       "line3                                                               3\n",
       "line4                                                               2\n",
       "column.label                                                         \n",
       "type                                                         monetary\n",
       "balance                                                        credit\n",
       "Status                                                           Main\n",
       "Name: 116689, dtype: object"
      ]
     },
     "execution_count": 64,
     "metadata": {},
     "output_type": "execute_result"
    }
   ],
   "source": [
    "data.iloc[-51]"
   ]
  },
  {
   "cell_type": "code",
   "execution_count": 65,
   "metadata": {},
   "outputs": [
    {
     "data": {
      "text/plain": [
       "ID                                                4421.0\n",
       "Item                                            RIADHK03\n",
       "IDRSSD                                          852218.0\n",
       "Value                                         29000000.0\n",
       "Date                                 2017-03-31 00:00:00\n",
       "CValue                                        29000000.0\n",
       "schedule                                              RI\n",
       "schedule.label                          Income Statement\n",
       "Label1clean                          2. Interest expense\n",
       "Label2clean                      a. Interest on deposits\n",
       "Label3clean                   2. Nontransaction accounts\n",
       "Label4clean         b. Time deposits of $250,000 or less\n",
       "labelStringclean       Time deposits of $250,000 or less\n",
       "line1                                                  2\n",
       "line2                                                  1\n",
       "line3                                                  2\n",
       "line4                                                  2\n",
       "column.label                                            \n",
       "type                                            monetary\n",
       "balance                                            debit\n",
       "Status                                              Main\n",
       "Name: 116690, dtype: object"
      ]
     },
     "execution_count": 65,
     "metadata": {},
     "output_type": "execute_result"
    }
   ],
   "source": [
    "data.iloc[-50]"
   ]
  },
  {
   "cell_type": "code",
   "execution_count": 66,
   "metadata": {},
   "outputs": [
    {
     "data": {
      "text/plain": [
       "ID                                                  4422.0\n",
       "Item                                              RIADHK04\n",
       "IDRSSD                                            852218.0\n",
       "Value                                         1207000000.0\n",
       "Date                                   2023-03-31 00:00:00\n",
       "CValue                                        1207000000.0\n",
       "schedule                                                RI\n",
       "schedule.label                            Income Statement\n",
       "Label1clean                            2. Interest expense\n",
       "Label2clean                        a. Interest on deposits\n",
       "Label3clean                     2. Nontransaction accounts\n",
       "Label4clean         c. Time deposits of more than $250,000\n",
       "labelStringclean       Time deposits of more than $250,000\n",
       "line1                                                    2\n",
       "line2                                                    1\n",
       "line3                                                    2\n",
       "line4                                                    3\n",
       "column.label                                              \n",
       "type                                              monetary\n",
       "balance                                              debit\n",
       "Status                                                Main\n",
       "Name: 116739, dtype: object"
      ]
     },
     "execution_count": 66,
     "metadata": {},
     "output_type": "execute_result"
    }
   ],
   "source": [
    "data.iloc[-1]"
   ]
  },
  {
   "cell_type": "code",
   "execution_count": null,
   "metadata": {},
   "outputs": [],
   "source": []
  }
 ],
 "metadata": {
  "kernelspec": {
   "display_name": "base",
   "language": "python",
   "name": "python3"
  },
  "language_info": {
   "codemirror_mode": {
    "name": "ipython",
    "version": 3
   },
   "file_extension": ".py",
   "mimetype": "text/x-python",
   "name": "python",
   "nbconvert_exporter": "python",
   "pygments_lexer": "ipython3",
   "version": "3.9.12"
  },
  "orig_nbformat": 4
 },
 "nbformat": 4,
 "nbformat_minor": 2
}
